{
 "cells": [
  {
   "cell_type": "code",
   "execution_count": null,
   "id": "d66982fe",
   "metadata": {},
   "outputs": [],
   "source": [
    "import torch\n",
    "from torchvision import transforms, models, datasets\n",
    "from PIL import Image\n",
    "import cv2\n",
    "import requests\n",
    "import json\n",
    "import numpy as np\n",
    "from torch.utils.data import DataLoader\n",
    "from sklearn.metrics import confusion_matrix, classification_report"
   ]
  },
  {
   "cell_type": "code",
   "execution_count": null,
   "id": "5af2abd3",
   "metadata": {},
   "outputs": [],
   "source": [
    "# Define the same transformations used for validation during training\n",
    "transform = transforms.Compose([\n",
    "    transforms.Resize((300, 300)),\n",
    "    transforms.ToTensor(),\n",
    "    transforms.Normalize([0.485, 0.456, 0.406], [0.229, 0.224, 0.225])\n",
    "])\n",
    "\n",
    "# Define the device\n",
    "device = torch.device(\"cuda\" if torch.cuda.is_available() else \"cpu\")"
   ]
  },
  {
   "cell_type": "code",
   "execution_count": null,
   "id": "5b20eaf1",
   "metadata": {},
   "outputs": [],
   "source": [
    "# Load class names from a JSON file (assuming this file was saved during training)\n",
    "try:\n",
    "    with open('class_names.json', 'r') as f:\n",
    "        class_names = json.load(f)\n",
    "except FileNotFoundError:\n",
    "    print(\"Error: 'class_names.json' not found. Please ensure the class names file from training is in the same directory.\")\n",
    "    exit() # Exit if class names are not found\n",
    "\n",
    "num_classes = len(class_names) # Get number of classes dynamically"
   ]
  },
  {
   "cell_type": "code",
   "execution_count": null,
   "id": "e1b3c838",
   "metadata": {},
   "outputs": [],
   "source": [
    "# Load the pre-trained EfficientNet-B3 model structure\n",
    "model = models.efficientnet_b3(pretrained=False) # No pretrained weights here initially"
   ]
  },
  {
   "cell_type": "code",
   "execution_count": null,
   "id": "21dd8513",
   "metadata": {},
   "outputs": [],
   "source": [
    "# Get the number of features in the last fully connected layer\n",
    "num_ftrs = model.classifier[1].in_features\n",
    "\n",
    "# Redefine the classifier sequential block to exactly match the structure used in train_model.py\n",
    "model.classifier[1] = torch.nn.Sequential(\n",
    "    torch.nn.Linear(num_ftrs, 512),\n",
    "    torch.nn.BatchNorm1d(512),\n",
    "    torch.nn.ReLU(),\n",
    "    torch.nn.Dropout(0.3),\n",
    "    torch.nn.Linear(512, 128),\n",
    "    torch.nn.BatchNorm1d(128),\n",
    "    torch.nn.ReLU(),\n",
    "    torch.nn.Dropout(0.3),\n",
    "    torch.nn.Linear(128, num_classes) # Set the final layer size directly using num_classes\n",
    ")\n",
    "\n",
    "# Load the trained model weights\n",
    "model.load_state_dict(torch.load('best_model.pth', map_location=device)) # Load the best model saved during training\n",
    "model = model.to(device)"
   ]
  },
  {
   "cell_type": "code",
   "execution_count": null,
   "id": "da53cc8e",
   "metadata": {},
   "outputs": [],
   "source": [
    "# Set the model to evaluation mode\n",
    "model.eval()"
   ]
  },
  {
   "cell_type": "code",
   "execution_count": null,
   "id": "7e9c5f4d",
   "metadata": {},
   "outputs": [],
   "source": [
    "# Function to make a prediction on a single image file\n",
    "def predict_image(image_path, model, transform, class_names, device):\n",
    "    try:\n",
    "        image = Image.open(image_path).convert('RGB')\n",
    "        image = transform(image).unsqueeze(0) \n",
    "        image = image.to(device)\n",
    "\n",
    "        with torch.no_grad():\n",
    "            outputs = model(image)\n",
    "            probabilities = torch.softmax(outputs, dim=1)\n",
    "            _, predicted_class_idx = torch.max(outputs, 1)\n",
    "\n",
    "        predicted_class_name = class_names[predicted_class_idx.item()]\n",
    "        confidence = probabilities[0][predicted_class_idx.item()].item()\n",
    "\n",
    "        return predicted_class_name, confidence\n",
    "\n",
    "    except FileNotFoundError:\n",
    "        return f\"Error: Image file not found at {image_path}\", None\n",
    "    except Exception as e:\n",
    "        return f\"An error occurred during prediction: {e}\", None"
   ]
  },
  {
   "cell_type": "code",
   "execution_count": null,
   "id": "dc450c98",
   "metadata": {},
   "outputs": [],
   "source": [
    "# Example usage:\n",
    "if __name__ == '__main__':\n",
    "    # Replace 'path/to/your/image.jpg' with the actual path to a plant leaf image file\n",
    "    image_file_path = 'test\\AppleScab2.JPG' \n",
    "\n",
    "    predicted_class, confidence = predict_image(image_file_path, model, transform, class_names, device)\n",
    "\n",
    "    if confidence is not None:\n",
    "        print(f\"Predicted Class: {predicted_class}\")\n",
    "        print(f\"Confidence: {confidence:.4f}\")\n",
    "\n",
    "    else:\n",
    "        print(predicted_class) # Print the error message"
   ]
  },
  {
   "cell_type": "code",
   "execution_count": null,
   "id": "f5fafd86",
   "metadata": {},
   "outputs": [],
   "source": [
    "# --- Test Dataset Loading and Evaluation ---\n",
    "# Assuming your test data is in a folder named 'test'\n",
    "test_dataset = datasets.ImageFolder('test', transform=transform)\n",
    "test_loader = DataLoader(test_dataset, batch_size=32, shuffle=False) \n",
    "\n",
    "print(f\"Number of test images: {len(test_dataset)}\")\n",
    "\n",
    "true_labels = []\n",
    "\n",
    "predicted_labels = []\n",
    "\n",
    "# Perform inference on the test dataset in batches\n",
    "print(\"Performing inference on the test dataset...\")\n",
    "with torch.no_grad():\n",
    "    for inputs, labels in test_loader:\n",
    "        inputs, labels = inputs.to(device), labels.to(device)\n",
    "\n",
    "        outputs = model(inputs)\n",
    "        _, preds = torch.max(outputs, 1)\n",
    "\n",
    "        true_labels.extend(labels.cpu().numpy())\n",
    "        predicted_labels.extend(preds.cpu().numpy())\n",
    "\n",
    "print(\"Inference complete. Calculating evaluation metrics...\")"
   ]
  },
  {
   "cell_type": "code",
   "execution_count": null,
   "id": "f63fdadf",
   "metadata": {},
   "outputs": [],
   "source": [
    "# Calculate and print evaluation metrics\n",
    "print(\"\\nComprehensive Evaluation Report:\")\n",
    "print(\"Confusion Matrix:\")\n",
    "print(confusion_matrix(true_labels, predicted_labels))\n",
    "\n",
    "print(\"\\nClassification Report:\")\n",
    "# Ensure class_names is correctly loaded for target_names\n",
    "print(classification_report(true_labels, predicted_labels, target_names=class_names))"
   ]
  },
  {
   "cell_type": "code",
   "execution_count": null,
   "id": "65e07b19",
   "metadata": {},
   "outputs": [],
   "source": []
  },
  {
   "cell_type": "code",
   "execution_count": null,
   "id": "65617084",
   "metadata": {},
   "outputs": [],
   "source": []
  },
  {
   "cell_type": "code",
   "execution_count": null,
   "id": "e34dc231",
   "metadata": {},
   "outputs": [],
   "source": []
  },
  {
   "cell_type": "code",
   "execution_count": null,
   "id": "802cbd14",
   "metadata": {},
   "outputs": [],
   "source": []
  },
  {
   "cell_type": "code",
   "execution_count": null,
   "id": "6def5df3",
   "metadata": {},
   "outputs": [],
   "source": []
  }
 ],
 "metadata": {
  "kernelspec": {
   "display_name": "myplantenv",
   "language": "python",
   "name": "python3"
  },
  "language_info": {
   "codemirror_mode": {
    "name": "ipython",
    "version": 3
   },
   "file_extension": ".py",
   "mimetype": "text/x-python",
   "name": "python",
   "nbconvert_exporter": "python",
   "pygments_lexer": "ipython3",
   "version": "3.12.8"
  }
 },
 "nbformat": 4,
 "nbformat_minor": 5
}

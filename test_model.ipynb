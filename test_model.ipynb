{
 "cells": [
  {
   "cell_type": "code",
   "execution_count": null,
   "id": "7e9c5f4d",
   "metadata": {},
   "outputs": [],
   "source": [
    "import torch\n",
    "from torchvision import transforms, models, datasets\n",
    "from PIL import Image\n",
    "import cv2\n",
    "import requests\n",
    "import json\n",
    "import numpy as np\n",
    "from torch.utils.data import DataLoader\n",
    "from sklearn.metrics import confusion_matrix, classification_report"
   ]
  },
  {
   "cell_type": "code",
   "execution_count": null,
   "id": "02de8e05",
   "metadata": {},
   "outputs": [],
   "source": [
    "# Define the same transformations used for validation during training\n",
    "transform = transforms.Compose([\n",
    "    transforms.Resize((300, 300)),\n",
    "    transforms.ToTensor(),\n",
    "    transforms.Normalize([0.485, 0.456, 0.406], [0.229, 0.224, 0.225])\n",
    "])\n",
    "\n",
    "# Define the device\n",
    "device = torch.device(\"cuda\" if torch.cuda.is_available() else \"cpu\")"
   ]
  },
  {
   "cell_type": "code",
   "execution_count": null,
   "id": "54fb48b1",
   "metadata": {},
   "outputs": [],
   "source": [
    "# Load the pre-trained EfficientNet-B3 model structure\n",
    "model = models.efficientnet_b3(pretrained=False) # No pretrained weights here initially"
   ]
  },
  {
   "cell_type": "code",
   "execution_count": null,
   "id": "47c0aecd",
   "metadata": {},
   "outputs": [],
   "source": [
    "# Modify the final layer to match the trained model\n",
    "# You need to know the number of output classes from your training.\n",
    "# Assuming it's 38 based on the previous notebook, but loading dynamically is better.\n",
    "# num_classes = 38 # Removed hardcoded number of classes\n",
    "num_ftrs = model.classifier[1].in_features\n",
    "model.classifier[1] = nn.Sequential(\n",
    "    nn.Linear(num_ftrs, 512),\n",
    "    nn.BatchNorm1d(512),\n",
    "    nn.ReLU(),\n",
    "    nn.Dropout(0.3),\n",
    "    nn.Linear(512, 128),\n",
    "    nn.BatchNorm1d(128),\n",
    "    nn.ReLU(),\n",
    "    nn.Dropout(0.3),\n",
    "    # The last layer size will be determined by the number of classes loaded from file\n",
    "    # nn.Linear(128, num_classes) # Modified below after loading class_names\n",
    ")\n",
    "\n",
    "# Load the trained model weights\n",
    "model.load_state_dict(torch.load('best_model.pth', map_location=device)) # Load the best model saved during training\n",
    "model = model.to(device)"
   ]
  },
  {
   "cell_type": "code",
   "execution_count": null,
   "id": "10fca71b",
   "metadata": {},
   "outputs": [],
   "source": [
    "# Set the model to evaluation mode\n",
    "model.eval()"
   ]
  },
  {
   "cell_type": "code",
   "execution_count": null,
   "id": "b364d87e",
   "metadata": {},
   "outputs": [],
   "source": [
    "# Load class names from a JSON file (assuming this file was saved during training)\n",
    "try:\n",
    "    with open('class_names.json', 'r') as f:\n",
    "        class_names = json.load(f)\n",
    "except FileNotFoundError:\n",
    "    print(\"Error: 'class_names.json' not found. Please ensure the class names file from training is in the same directory.\")\n",
    "    exit() # Exit if class names are not found\n",
    "\n",
    "num_classes = len(class_names) # Get number of classes dynamically"
   ]
  },
  {
   "cell_type": "code",
   "execution_count": null,
   "id": "30b223a3",
   "metadata": {},
   "outputs": [],
   "source": [
    "# Now that we have num_classes, modify the last linear layer of the classifier\n",
    "model.classifier[1][-1] = nn.Linear(128, num_classes)"
   ]
  },
  {
   "cell_type": "code",
   "execution_count": null,
   "id": "e236af93",
   "metadata": {},
   "outputs": [],
   "source": [
    "# Load the trained model weights\n",
    "try:\n",
    "    model.load_state_dict(torch.load('best_model.pth', map_location=device)) # Load the best model saved during training\n",
    "    model = model.to(device)\n",
    "except Exception as e:\n",
    "    print(f\"Error loading model weights: {e}\")\n",
    "    exit()"
   ]
  },
  {
   "cell_type": "code",
   "execution_count": null,
   "id": "630388c5",
   "metadata": {},
   "outputs": [],
   "source": [
    "# Function to make a prediction on a single image file\n",
    "def predict_image(image_path, model, transform, class_names, device):\n",
    "    try:\n",
    "        image = Image.open(image_path).convert('RGB')\n",
    "        image = transform(image).unsqueeze(0) # Add batch dimension\n",
    "        image = image.to(device)\n",
    "\n",
    "        with torch.no_grad():\n",
    "            outputs = model(image)\n",
    "            probabilities = torch.softmax(outputs, dim=1)\n",
    "            _, predicted_class_idx = torch.max(outputs, 1)\n",
    "\n",
    "        predicted_class_name = class_names[predicted_class_idx.item()]\n",
    "        confidence = probabilities[0][predicted_class_idx.item()].item()\n",
    "\n",
    "        return predicted_class_name, confidence\n",
    "\n",
    "    except FileNotFoundError:\n",
    "        return f\"Error: Image file not found at {image_path}\", None\n",
    "    except Exception as e:\n",
    "        return f\"An error occurred during prediction: {e}\", None"
   ]
  },
  {
   "cell_type": "code",
   "execution_count": null,
   "id": "5afcbe37",
   "metadata": {},
   "outputs": [],
   "source": [
    "# Example usage:\n",
    "if __name__ == '__main__':\n",
    "    # Replace 'path/to/your/image.jpg' with the actual path to a plant leaf image file\n",
    "    image_file_path = 'path/to/your/image.jpg' # !!! CHANGE THIS !!!\n",
    "\n",
    "    predicted_class, confidence = predict_image(image_file_path, model, transform, class_names, device)\n",
    "\n",
    "    if confidence is not None:\n",
    "        print(f\"Predicted Class: {predicted_class}\")\n",
    "        print(f\"Confidence: {confidence:.4f}\")\n",
    "\n",
    "    else:\n",
    "        print(predicted_class) # Print the error message"
   ]
  },
  {
   "cell_type": "code",
   "execution_count": null,
   "id": "e1391edb",
   "metadata": {},
   "outputs": [],
   "source": [
    "# --- Test Dataset Loading and Evaluation ---\n",
    "# Assuming your test data is in a folder named 'test'\n",
    "test_dataset = datasets.ImageFolder('test', transform=transform)\n",
    "test_loader = DataLoader(test_dataset, batch_size=32, shuffle=False) # Use a suitable batch size\n",
    "\n",
    "print(f\"Number of test images: {len(test_dataset)}\")\n",
    "\n",
    "true_labels = []\n",
    "\n",
    "predicted_labels = []\n",
    "\n",
    "# Perform inference on the test dataset in batches\n",
    "print(\"Performing inference on the test dataset...\")\n",
    "with torch.no_grad():\n",
    "    for inputs, labels in test_loader:\n",
    "        inputs, labels = inputs.to(device), labels.to(device)\n",
    "\n",
    "        outputs = model(inputs)\n",
    "        _, preds = torch.max(outputs, 1)\n",
    "\n",
    "        true_labels.extend(labels.cpu().numpy())\n",
    "        predicted_labels.extend(preds.cpu().numpy())\n",
    "\n",
    "print(\"Inference complete. Calculating evaluation metrics...\")\n",
    "\n",
    "# Calculate and print evaluation metrics\n",
    "print(\"\\nComprehensive Evaluation Report:\")\n",
    "print(\"Confusion Matrix:\")\n",
    "print(confusion_matrix(true_labels, predicted_labels))\n",
    "\n",
    "print(\"\\nClassification Report:\")\n",
    "# Ensure class_names is correctly loaded for target_names\n",
    "print(classification_report(true_labels, predicted_labels, target_names=class_names))\n"
   ]
  },
  {
   "cell_type": "code",
   "execution_count": null,
   "id": "c2449525",
   "metadata": {},
   "outputs": [],
   "source": [
    "# --- Optional: Add code for visualization here ---\n",
    "# For example, you could loop through a few test images, display the image,\n",
    "# the true label, the predicted label, and the confidence score.\n",
    "# This would require libraries like matplotlib or cv2 for displaying images.\n",
    "# Example (conceptual - requires image loading and display code):\n",
    "# for i in range(min(10, len(test_dataset))): # Visualize first 10 images\n",
    "#     image, true_label = test_dataset[i]\n",
    "#     predicted_label = predicted_labels[i]\n",
    "#     # Display image, true_label, and predicted_label\n",
    "#     pass # Replace with visualization code\n",
    "\n",
    "# --- Optional: Add more specific error handling ---\n",
    "# You could add more specific checks, e.g., to ensure the model file exists,\n",
    "# or to handle issues during data loading if the directory structure is incorrect. "
   ]
  }
 ],
 "metadata": {
  "language_info": {
   "name": "python"
  }
 },
 "nbformat": 4,
 "nbformat_minor": 5
}
